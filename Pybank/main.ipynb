{
 "cells": [
  {
   "cell_type": "code",
   "execution_count": 1,
   "id": "communist-disclosure",
   "metadata": {},
   "outputs": [],
   "source": [
    "# Import pathlib and CSV library\n",
    "\n",
    "from pathlib import Path\n",
    "import csv\n",
    "\n",
    "# Set the path for budget_data.csv\n",
    "csvpath = Path(\"Resources/budget_data.csv\")"
   ]
  },
  {
   "cell_type": "code",
   "execution_count": 2,
   "id": "deadly-saying",
   "metadata": {},
   "outputs": [],
   "source": [
    "# Initialise lists to hold total_months, profit_losses and profit_loss_changes\n",
    "\n",
    "total_months = []\n",
    "profit_losses = []\n",
    "profit_change = []"
   ]
  },
  {
   "cell_type": "code",
   "execution_count": 3,
   "id": "warming-industry",
   "metadata": {},
   "outputs": [],
   "source": [
    "# Open the csv file as csvfile\n",
    "with open(csvpath, 'r') as csvfile:\n",
    "    csvreader = csv.reader(csvfile)\n",
    "    \n",
    "    # Read the header row first\n",
    "    csv_header = next(csvreader)\n",
    "    \n",
    "    # Iterate through each of the rows after the header\n",
    "    for row in csvreader:\n",
    "        \n",
    "        # Append months and profit/losses to their corresponding lists and convert profit_losses to integers for numerical calculations\n",
    "        total_months.append(str(row[0]))\n",
    "        profit_losses.append(int(row[1]))\n",
    "    \n",
    "    # Iterate through each row of profit_losses to find changes in profit/losses\n",
    "    for row in range(len(profit_losses)-1):\n",
    "        \n",
    "        # Append profit change to corresponding list\n",
    "        profit_change.append(profit_losses[row+1]-profit_losses[row])\n",
    "    "
   ]
  },
  {
   "cell_type": "code",
   "execution_count": 4,
   "id": "cross-relay",
   "metadata": {},
   "outputs": [],
   "source": [
    "# Calculate the average change in profit/losses\n",
    "average_change = sum(profit_change) / (len(total_months) - 1)"
   ]
  },
  {
   "cell_type": "code",
   "execution_count": 5,
   "id": "threatened-paintball",
   "metadata": {},
   "outputs": [],
   "source": [
    "# Using zip() method, combine the two lists total_months and profit_change into a dictionary\n",
    "# Start total_months from index[1]\n",
    "\n",
    "profit_dict = dict(zip(total_months[1:], profit_change))"
   ]
  },
  {
   "cell_type": "code",
   "execution_count": 6,
   "id": "north-investor",
   "metadata": {},
   "outputs": [],
   "source": [
    "# Initialise greatest decrease key-value pair\n",
    "greatest_decrease_month = \"\"\n",
    "greatest_decrease_profit = 0\n",
    "\n",
    "# Initialise greatest increase key-value pair\n",
    "greatest_increase_month = \"\"\n",
    "greatest_increase_profit = 0"
   ]
  },
  {
   "cell_type": "code",
   "execution_count": 7,
   "id": "competitive-surgery",
   "metadata": {},
   "outputs": [],
   "source": [
    "# Iterate over each key-value pair in profit_dict\n",
    "for month, profit in profit_dict.items():\n",
    "    \n",
    "    # Logic to determine greatest decrease profit and greatest increase profit along with the associated key pair\n",
    "    if greatest_decrease_profit == 0:\n",
    "        greatest_decrease_profit = profit\n",
    "        greatest_decrease_month = month\n",
    "    elif profit < greatest_decrease_profit:\n",
    "        greatest_decrease_profit = profit\n",
    "        greatest_decrease_month = month\n",
    "    elif profit > greatest_increase_profit:\n",
    "        greatest_increase_profit = profit\n",
    "        greatest_increase_month = month"
   ]
  },
  {
   "cell_type": "code",
   "execution_count": 8,
   "id": "hispanic-kruger",
   "metadata": {},
   "outputs": [],
   "source": [
    "# Set output file name\n",
    "\n",
    "output_path = \"financial_analysis.txt\""
   ]
  },
  {
   "cell_type": "code",
   "execution_count": 42,
   "id": "seventh-american",
   "metadata": {},
   "outputs": [],
   "source": [
    "# Open the output path as a file object\n",
    "\n",
    "with open(output_path, 'w') as file:\n",
    "    \n",
    "    # Write the financial analysis results and convert to string\n",
    "    file.write(\"Financial Analysis\\n\")\n",
    "    file.write(\"----------------------------\\n\")\n",
    "    file.write(f\"Total Months: {len(total_months)}\\n\")\n",
    "    file.write(f\"Total: ${sum(profit_losses)}\\n\")\n",
    "    file.write(f\"Average Change: $ {average_change:.2f}\\n\")\n",
    "    file.write(f\"Greatest Increase in Profits: {greatest_increase_month} (${greatest_increase_profit})\\n\")\n",
    "    file.write(f\"Greatest Decrease in Profits: {greatest_decrease_month} (${greatest_decrease_profit})\")"
   ]
  },
  {
   "cell_type": "code",
   "execution_count": null,
   "id": "available-jacket",
   "metadata": {},
   "outputs": [],
   "source": []
  }
 ],
 "metadata": {
  "kernelspec": {
   "display_name": "Python 3",
   "language": "python",
   "name": "python3"
  },
  "language_info": {
   "codemirror_mode": {
    "name": "ipython",
    "version": 3
   },
   "file_extension": ".py",
   "mimetype": "text/x-python",
   "name": "python",
   "nbconvert_exporter": "python",
   "pygments_lexer": "ipython3",
   "version": "3.8.5"
  }
 },
 "nbformat": 4,
 "nbformat_minor": 5
}
